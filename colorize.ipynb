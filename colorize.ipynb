{
 "cells": [
  {
   "cell_type": "code",
   "execution_count": 15,
   "metadata": {},
   "outputs": [],
   "source": [
    "import numpy as np\n",
    "import os\n",
    "import cv2\n",
    "import random\n",
    "import matplotlib.pyplot as plt"
   ]
  },
  {
   "cell_type": "code",
   "execution_count": 16,
   "metadata": {},
   "outputs": [],
   "source": [
    "# Define the color masks\n",
    "GRAVEYARD = ([252, 252, 252], [116, 116, 116])\n",
    "FOREST = [(0, 168, 0), [252, 216, 168]]\n",
    "MOUNT = [(200, 76, 12), [252, 216, 168]]\n",
    "\n",
    "# Dictionary to access masks by name\n",
    "MASKS = {\n",
    "    \"GRAVEYARD\": GRAVEYARD,\n",
    "    \"FOREST\": FOREST,\n",
    "    \"MOUNT\": MOUNT\n",
    "}"
   ]
  },
  {
   "cell_type": "code",
   "execution_count": 17,
   "metadata": {},
   "outputs": [],
   "source": [
    "def style(img, mask_name):\n",
    "    \n",
    "    # Get the target mask\n",
    "    target_mask = MASKS[mask_name]\n",
    "\n",
    "    # Get the masks to be changed\n",
    "    masks_to_change = [mask for name, mask in MASKS.items() if name != mask_name]\n",
    "\n",
    "    # Create masks for the colors to be changed\n",
    "    mask1 = np.all(img == masks_to_change[0][0], axis=-1)\n",
    "    mask2 = np.all(img == masks_to_change[0][1], axis=-1)\n",
    "    mask3 = np.all(img == masks_to_change[1][0], axis=-1)\n",
    "    mask4 = np.all(img == masks_to_change[1][1], axis=-1)\n",
    "\n",
    "    # Apply the target mask colors\n",
    "    img[mask1] = target_mask[0]\n",
    "    img[mask2] = target_mask[1]\n",
    "    img[mask3] = target_mask[0]\n",
    "    img[mask4] = target_mask[1]\n",
    "    \n",
    "    img = cv2.cvtColor(img, cv2.COLOR_BGR2RGB)\n",
    "\n",
    "    return img"
   ]
  },
  {
   "cell_type": "code",
   "execution_count": 21,
   "metadata": {},
   "outputs": [],
   "source": [
    "tile_set_path = 'biomless_tile'\n",
    "tile_size = 16\n",
    "tiles = []\n",
    "for filename in os.listdir(tile_set_path):\n",
    "    tile = cv2.imread(os.path.join(tile_set_path, filename))\n",
    "    tile = cv2.cvtColor(tile, cv2.COLOR_BGR2RGB)\n",
    "    tiles.append(tile)"
   ]
  },
  {
   "cell_type": "code",
   "execution_count": 24,
   "metadata": {},
   "outputs": [
    {
     "data": {
      "image/png": "[encoded data removed]",
      "text/plain": [
       "<Figure size 640x480 with 1 Axes>"
      ]
     },
     "metadata": {},
     "output_type": "display_data"
    }
   ],
   "source": [
    "\n",
    "# Load the tensor from the .npy file\n",
    "random_mask_name = random.choice(list(MASKS.keys()))\n",
    "# random_mask = MASKS[random_mask_name]\n",
    "\n",
    "tensor = np.load('generated_sample/normal/sample_0.npy')\n",
    "\n",
    "\n",
    "styled_tiles = []\n",
    "for tile in tiles:\n",
    "    styled_tile = style(tile, random_mask_name)\n",
    "    styled_tiles.append(styled_tile)\n",
    "\n",
    "# Get the dimensions of the tiles\n",
    "tile_height, tile_width, _ = tiles[0].shape\n",
    "\n",
    "# Create a blank image with the size to hold all the tiles\n",
    "full_image = np.zeros((tensor.shape[0] * tile_height, tensor.shape[1] * tile_width, 3), dtype=np.uint8)\n",
    "\n",
    "# Decode the one-hot encoding and place the correct tile in the final image\n",
    "for x in range(tensor.shape[0]):\n",
    "    for y in range(tensor.shape[1]):\n",
    "        # Find the index of the tile (one-hot encoding to index)\n",
    "        tile_index = np.argmax(tensor[x, y])\n",
    "        \n",
    "        # Get the corresponding tile\n",
    "        tile = styled_tiles[tile_index]\n",
    "        \n",
    "        # Place the tile in the correct position in the full image\n",
    "        start_x = x * tile_height\n",
    "        start_y = y * tile_width\n",
    "        full_image[start_x:start_x + tile_height, start_y:start_y + tile_width] = tile\n",
    "        \n",
    "full_image = cv2.cvtColor(full_image, cv2.COLOR_BGR2RGB)\n",
    "\n",
    "# Display the full image using OpenCV\n",
    "plt.imshow(full_image)\n",
    "plt.axis('off')  # Hide the axis\n",
    "plt.show()\n"
   ]
  },
  {
   "cell_type": "code",
   "execution_count": 23,
   "metadata": {},
   "outputs": [],
   "source": [
    "output_list = ['colorized_sample/tiny', 'colorized_sample/normal', 'colorized_sample/large']\n",
    "input_list = ['generated_sample/tiny', 'generated_sample/normal', 'generated_sample/large']\n",
    "\n",
    "for input_path, output_path in zip(input_list, output_list):\n",
    "\n",
    "    output_path = output_path\n",
    "    if not os.path.exists(output_path):\n",
    "        os.makedirs(output_path)\n",
    "        \n",
    "    input_path = input_path\n",
    "\n",
    "    for filename in os.listdir(input_path):\n",
    "        tensor_path = os.path.join(input_path, filename)\n",
    "        tensor = np.load(tensor_path)\n",
    "        random_mask_name = random.choice(list(MASKS.keys()))\n",
    "        styled_tiles = []\n",
    "        \n",
    "        # inefficiente ma non mi va\n",
    "        for tile in tiles:\n",
    "            styled_tile = style(tile, random_mask_name)\n",
    "            styled_tiles.append(styled_tile)\n",
    "        \n",
    "        # Get the dimensions of the tiles\n",
    "        tile_height, tile_width, _ = tiles[0].shape\n",
    "\n",
    "        # Create a blank image with the size to hold all the tiles\n",
    "        full_image = np.zeros((tensor.shape[0] * tile_height, tensor.shape[1] * tile_width, 3), dtype=np.uint8)\n",
    "\n",
    "        # Decode the one-hot encoding and place the correct tile in the final image\n",
    "        for x in range(tensor.shape[0]):\n",
    "            for y in range(tensor.shape[1]):\n",
    "                # Find the index of the tile (one-hot encoding to index)\n",
    "                tile_index = np.argmax(tensor[x, y])\n",
    "                \n",
    "                # Get the corresponding tile\n",
    "                tile = styled_tiles[tile_index]\n",
    "                \n",
    "                # Place the tile in the correct position in the full image\n",
    "                start_x = x * tile_height\n",
    "                start_y = y * tile_width\n",
    "                full_image[start_x:start_x + tile_height, start_y:start_y + tile_width] = tile\n",
    "                \n",
    "        # full_image = cv2.cvtColor(full_image, cv2.COLOR_BGR2RGB)\n",
    "        output_file_path = os.path.join(output_path, f'{filename}.png')\n",
    "        cv2.imwrite(output_file_path, full_image)"
   ]
  }
 ],
 "metadata": {
  "kernelspec": {
   "display_name": "cv381",
   "language": "python",
   "name": "python3"
  },
  "language_info": {
   "codemirror_mode": {
    "name": "ipython",
    "version": 3
   },
   "file_extension": ".py",
   "mimetype": "text/x-python",
   "name": "python",
   "nbconvert_exporter": "python",
   "pygments_lexer": "ipython3",
   "version": "3.8.1"
  }
 },
 "nbformat": 4,
 "nbformat_minor": 2
}
