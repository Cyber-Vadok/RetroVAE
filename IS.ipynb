{
 "cells": [
  {
   "cell_type": "code",
   "execution_count": null,
   "metadata": {},
   "outputs": [],
   "source": [
    "import os\n",
    "import numpy as np\n",
    "from tensorflow.keras.applications.inception_v3 import InceptionV3, preprocess_input\n",
    "from tensorflow.keras.preprocessing import image\n",
    "from scipy.stats import entropy\n",
    "\n",
    "def load_and_preprocess_image(file_path):\n",
    "    img = image.load_img(file_path, target_size=(299, 299))\n",
    "    img = image.img_to_array(img)\n",
    "    img = preprocess_input(img)\n",
    "    return img\n",
    "\n",
    "def calculate_is(images_folder, batch_size=32):\n",
    "    # Load InceptionV3 model\n",
    "    model = InceptionV3(include_top=True, weights='imagenet')\n",
    "\n",
    "    # Load and preprocess images\n",
    "    images = np.array([load_and_preprocess_image(os.path.join(images_folder, f)) for f in os.listdir(images_folder)])\n",
    "    n_images = images.shape[0]\n",
    "\n",
    "    # Predict class probabilities\n",
    "    predictions = model.predict(images, batch_size=batch_size)\n",
    "\n",
    "    # Calculate Inception Score\n",
    "    p_y_given_x = predictions  # Class probabilities for each image\n",
    "    p_y = np.expand_dims(np.mean(p_y_given_x, axis=0), axis=0)  # Marginal distribution of classes\n",
    "    kl_divergences = np.sum(p_y_given_x * (np.log(p_y_given_x + 1e-16) - np.log(p_y + 1e-16)), axis=1)\n",
    "    is_score = np.exp(np.mean(kl_divergences))\n",
    "\n",
    "    return is_score\n",
    "\n",
    "# Example usage\n",
    "generated_images_folder = 'path_to_generated_images'\n",
    "is_score = calculate_is(generated_images_folder)\n",
    "print(f'Inception Score: {is_score}')\n"
   ]
  }
 ],
 "metadata": {
  "kernelspec": {
   "display_name": "cv381",
   "language": "python",
   "name": "python3"
  },
  "language_info": {
   "name": "python",
   "version": "3.8.1"
  }
 },
 "nbformat": 4,
 "nbformat_minor": 2
}
