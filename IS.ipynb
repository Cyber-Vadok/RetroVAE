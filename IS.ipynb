{
 "cells": [
  {
   "cell_type": "code",
   "execution_count": 1,
   "metadata": {},
   "outputs": [
    {
     "name": "stderr",
     "output_type": "stream",
     "text": [
      "2024-06-01 15:16:45.708115: I tensorflow/tsl/cuda/cudart_stub.cc:28] Could not find cuda drivers on your machine, GPU will not be used.\n",
      "2024-06-01 15:16:45.866098: I tensorflow/tsl/cuda/cudart_stub.cc:28] Could not find cuda drivers on your machine, GPU will not be used.\n",
      "2024-06-01 15:16:45.869442: I tensorflow/core/platform/cpu_feature_guard.cc:182] This TensorFlow binary is optimized to use available CPU instructions in performance-critical operations.\n",
      "To enable the following instructions: AVX2 FMA, in other operations, rebuild TensorFlow with the appropriate compiler flags.\n",
      "2024-06-01 15:16:50.364337: W tensorflow/compiler/tf2tensorrt/utils/py_utils.cc:38] TF-TRT Warning: Could not find TensorRT\n",
      "2024-06-01 15:17:03.258209: W tensorflow/tsl/framework/cpu_allocator_impl.cc:83] Allocation of 137319936 exceeds 10% of free system memory.\n",
      "2024-06-01 15:17:06.244544: W tensorflow/tsl/framework/cpu_allocator_impl.cc:83] Allocation of 34329984 exceeds 10% of free system memory.\n",
      "2024-06-01 15:17:06.244657: W tensorflow/tsl/framework/cpu_allocator_impl.cc:83] Allocation of 34329984 exceeds 10% of free system memory.\n",
      "2024-06-01 15:17:06.245145: W tensorflow/tsl/framework/cpu_allocator_impl.cc:83] Allocation of 34329984 exceeds 10% of free system memory.\n",
      "2024-06-01 15:17:06.245378: W tensorflow/tsl/framework/cpu_allocator_impl.cc:83] Allocation of 34329984 exceeds 10% of free system memory.\n"
     ]
    },
    {
     "name": "stdout",
     "output_type": "stream",
     "text": [
      "4/4 [==============================] - 11s 2s/step\n",
      "IS Score for colorized_sample/large: 2.691455602645874\n",
      "4/4 [==============================] - 10s 2s/step\n",
      "IS Score for colorized_sample/normal: 3.1321747303009033\n",
      "4/4 [==============================] - 13s 3s/step\n",
      "IS Score for colorized_sample/tiny: 3.3384268283843994\n"
     ]
    }
   ],
   "source": [
    "import os\n",
    "import numpy as np\n",
    "from tensorflow.keras.applications.inception_v3 import InceptionV3, preprocess_input\n",
    "from tensorflow.keras.preprocessing import image\n",
    "from scipy.stats import entropy\n",
    "\n",
    "def load_and_preprocess_image(file_path):\n",
    "    img = image.load_img(file_path, target_size=(299, 299))\n",
    "    img = image.img_to_array(img)\n",
    "    img = preprocess_input(img)\n",
    "    return img\n",
    "\n",
    "def calculate_is(images_folder, batch_size=32):\n",
    "    # Load InceptionV3 model\n",
    "    model = InceptionV3(include_top=True, weights='imagenet')\n",
    "\n",
    "    # Load and preprocess images\n",
    "    images = np.array([load_and_preprocess_image(os.path.join(images_folder, f)) for f in os.listdir(images_folder)])\n",
    "    n_images = images.shape[0]\n",
    "\n",
    "    # Predict class probabilities\n",
    "    predictions = model.predict(images, batch_size=batch_size)\n",
    "\n",
    "    # Calculate Inception Score\n",
    "    p_y_given_x = predictions  # Class probabilities for each image\n",
    "    p_y = np.expand_dims(np.mean(p_y_given_x, axis=0), axis=0)  # Marginal distribution of classes\n",
    "    kl_divergences = np.sum(p_y_given_x * (np.log(p_y_given_x + 1e-16) - np.log(p_y + 1e-16)), axis=1)\n",
    "    is_score = np.exp(np.mean(kl_divergences))\n",
    "\n",
    "    return is_score\n",
    "\n",
    "\n",
    "generated_images_folders = ['colorized_sample/large', 'colorized_sample/normal', 'colorized_sample/tiny']\n",
    "\n",
    "for folder in generated_images_folders:\n",
    "    is_score = calculate_is(folder)\n",
    "    print(f'IS Score for {folder}: {is_score}')\n",
    "    \n",
    "# higher better\n"
   ]
  }
 ],
 "metadata": {
  "kernelspec": {
   "display_name": "cv381",
   "language": "python",
   "name": "python3"
  },
  "language_info": {
   "codemirror_mode": {
    "name": "ipython",
    "version": 3
   },
   "file_extension": ".py",
   "mimetype": "text/x-python",
   "name": "python",
   "nbconvert_exporter": "python",
   "pygments_lexer": "ipython3",
   "version": "3.8.1"
  }
 },
 "nbformat": 4,
 "nbformat_minor": 2
}
