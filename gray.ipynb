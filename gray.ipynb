{
 "cells": [
  {
   "cell_type": "code",
   "execution_count": 5,
   "metadata": {},
   "outputs": [],
   "source": [
    "import cv2\n",
    "import numpy as np\n",
    "import matplotlib.pyplot as plt\n",
    "import os"
   ]
  },
  {
   "cell_type": "code",
   "execution_count": 7,
   "metadata": {},
   "outputs": [],
   "source": [
    "def process_images_in_folder(folder_path, output_path):\n",
    "    # Create the output folder if it doesn't exist\n",
    "    if not os.path.exists(output_path):\n",
    "        os.makedirs(output_path)\n",
    "\n",
    "    # Process each image in the folder\n",
    "    for filename in os.listdir(folder_path):\n",
    "        if filename.endswith(('.png', '.jpg', '.jpeg', '.bmp', '.tiff')):\n",
    "            image_path = os.path.join(folder_path, filename)\n",
    "            output_image_path = os.path.join(output_path, os.path.splitext(filename)[0] + '.npy')\n",
    "            print('Processing image', output_image_path)\n",
    "            gray_image = cv2.imread(image_path)\n",
    "            gray_image = cv2.cvtColor(gray_image, cv2.COLOR_BGR2GRAY)\n",
    "            np.save(output_image_path, gray_image)"
   ]
  },
  {
   "cell_type": "code",
   "execution_count": 11,
   "metadata": {},
   "outputs": [
    {
     "name": "stdout",
     "output_type": "stream",
     "text": [
      "Processing image gray_tile/0.npy\n",
      "Processing image gray_tile/1.npy\n",
      "Processing image gray_tile/2.npy\n",
      "Processing image gray_tile/3.npy\n",
      "Processing image gray_tile/4.npy\n",
      "Processing image gray_tile/5.npy\n",
      "Processing image gray_tile/6.npy\n",
      "Processing image gray_tile/7.npy\n",
      "Processing image gray_tile/8.npy\n",
      "Processing image gray_tile/9.npy\n",
      "Processing image gray_tile/10.npy\n",
      "Processing image gray_tile/11.npy\n",
      "Processing image gray_tile/12.npy\n",
      "Processing image gray_tile/13.npy\n",
      "Processing image gray_tile/14.npy\n",
      "Processing image gray_tile/15.npy\n",
      "Processing image gray_tile/16.npy\n",
      "Processing image gray_tile/17.npy\n",
      "Processing image gray_tile/18.npy\n",
      "Processing image gray_tile/20.npy\n",
      "Processing image gray_tile/21.npy\n",
      "Processing image gray_tile/22.npy\n",
      "Processing image gray_tile/23.npy\n",
      "Processing image gray_tile/24.npy\n",
      "Processing image gray_tile/25.npy\n",
      "Processing image gray_tile/26.npy\n",
      "Processing image gray_tile/27.npy\n",
      "Processing image gray_tile/28.npy\n",
      "Processing image gray_tile/29.npy\n",
      "Processing image gray_tile/30.npy\n",
      "Processing image gray_tile/31.npy\n",
      "Processing image gray_tile/32.npy\n",
      "Processing image gray_tile/33.npy\n",
      "Processing image gray_tile/34.npy\n",
      "Processing image gray_tile/35.npy\n",
      "Processing image gray_tile/36.npy\n",
      "Processing image gray_tile/37.npy\n",
      "Processing image gray_tile/38.npy\n",
      "Processing image gray_tile/39.npy\n",
      "Processing image gray_tile/40.npy\n",
      "Processing image gray_tile/41.npy\n",
      "Processing image gray_tile/19.npy\n"
     ]
    }
   ],
   "source": [
    "folder_path = 'biomless_tile'\n",
    "output_path = 'gray_tile'\n",
    "process_images_in_folder(folder_path, output_path)"
   ]
  },
  {
   "cell_type": "code",
   "execution_count": 10,
   "metadata": {},
   "outputs": [
    {
     "data": {
      "text/plain": [
       "(176, 256)"
      ]
     },
     "execution_count": 10,
     "metadata": {},
     "output_type": "execute_result"
    }
   ],
   "source": [
    "world_img = np.load('gray_world/68.npy')\n",
    "world_img.shape"
   ]
  }
 ],
 "metadata": {
  "kernelspec": {
   "display_name": "cv381",
   "language": "python",
   "name": "python3"
  },
  "language_info": {
   "codemirror_mode": {
    "name": "ipython",
    "version": 3
   },
   "file_extension": ".py",
   "mimetype": "text/x-python",
   "name": "python",
   "nbconvert_exporter": "python",
   "pygments_lexer": "ipython3",
   "version": "3.11.8"
  }
 },
 "nbformat": 4,
 "nbformat_minor": 2
}
