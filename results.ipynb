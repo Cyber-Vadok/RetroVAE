{
 "cells": [
  {
   "cell_type": "code",
   "execution_count": 2,
   "metadata": {},
   "outputs": [],
   "source": [
    "import os\n",
    "import numpy as np\n",
    "import matplotlib.pyplot as plt\n",
    "import torch\n",
    "import torch.nn as nn\n",
    "import torch.optim as optim\n",
    "from torch.utils.data import Dataset, DataLoader, random_split\n",
    "from pathlib import Path\n",
    "import torch.nn.functional as F\n",
    "import torch.nn.init as init\n",
    "\n",
    "from vae import VAE"
   ]
  },
  {
   "cell_type": "code",
   "execution_count": null,
   "metadata": {},
   "outputs": [],
   "source": [
    "tile_set_path = 'gray_tile'\n",
    "tile_size = 16\n",
    "tile_set = []\n",
    "for filename in os.listdir(tile_set_path):\n",
    "    tile = np.load(os.path.join(tile_set_path, filename))\n",
    "    tile_set.append(tile)"
   ]
  },
  {
   "cell_type": "code",
   "execution_count": null,
   "metadata": {},
   "outputs": [],
   "source": [
    "def convert_embedding_to_image(embedding, tile_set, tile_size):\n",
    "    num_tiles_h, num_tiles_w, _ = embedding.shape\n",
    "    # Initialize the image with the appropriate dimensions\n",
    "    reconstructed_image = np.zeros((num_tiles_h * tile_size, num_tiles_w * tile_size), dtype=tile_set[0].dtype)\n",
    "    \n",
    "    # Loop through each position in the embedding array\n",
    "    for i in range(num_tiles_h):\n",
    "        for j in range(num_tiles_w):\n",
    "            # Find the index of the tile (one-hot encoding)\n",
    "            tile_index = np.argmax(embedding[i, j])\n",
    "            # Retrieve the tile from the tile set\n",
    "            tile = tile_set[tile_index]\n",
    "            # Place the tile in the correct position in the reconstructed image\n",
    "            reconstructed_image[i*tile_size:(i+1)*tile_size, j*tile_size:(j+1)*tile_size] = tile\n",
    "\n",
    "    return reconstructed_image"
   ]
  },
  {
   "cell_type": "code",
   "execution_count": null,
   "metadata": {},
   "outputs": [],
   "source": [
    "# Define a function to plot original and reconstructed images\n",
    "def plot_images(original, reconstructed):\n",
    "    num_images = min(original.size(0), 5)  # Plot up to 5 images\n",
    "    fig, axes = plt.subplots(num_images, 2, figsize=(10, 3*num_images))\n",
    "    \n",
    "    for i in range(num_images):\n",
    "        # Plot original image\n",
    "        img1 = convert_embedding_to_image(original[i].numpy(), tile_set, tile_size)\n",
    "        axes[i, 0].imshow(img1.squeeze(), cmap='gray')\n",
    "        axes[i, 0].set_title('Original')\n",
    "        axes[i, 0].axis('off')\n",
    "        \n",
    "        img2 = convert_embedding_to_image(reconstructed[i].numpy(), tile_set, tile_size)\n",
    "        axes[i, 1].imshow(img2.squeeze(), cmap='gray')\n",
    "        axes[i, 1].set_title('Reconstructed')\n",
    "        axes[i, 1].axis('off')\n",
    "    \n",
    "    plt.tight_layout()\n",
    "    plt.show()\n"
   ]
  },
  {
   "cell_type": "code",
   "execution_count": null,
   "metadata": {},
   "outputs": [],
   "source": [
    "# Load the best VAE model\n",
    "tiny_vae_model = VAE(input_dim, latent_dim=8, hidden_dim=64).to(device)\n",
    "tiny_vae_model.load_state_dict(torch.load('best_vae_model.pth'))"
   ]
  }
 ],
 "metadata": {
  "kernelspec": {
   "display_name": "cv381",
   "language": "python",
   "name": "python3"
  },
  "language_info": {
   "codemirror_mode": {
    "name": "ipython",
    "version": 3
   },
   "file_extension": ".py",
   "mimetype": "text/x-python",
   "name": "python",
   "nbconvert_exporter": "python",
   "pygments_lexer": "ipython3",
   "version": "3.8.1"
  }
 },
 "nbformat": 4,
 "nbformat_minor": 2
}
