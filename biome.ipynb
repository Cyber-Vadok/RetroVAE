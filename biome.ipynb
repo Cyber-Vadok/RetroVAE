{
 "cells": [
  {
   "cell_type": "code",
   "execution_count": 2,
   "metadata": {},
   "outputs": [],
   "source": [
    "import cv2\n",
    "import numpy as np\n",
    "import matplotlib.pyplot as plt"
   ]
  },
  {
   "cell_type": "code",
   "execution_count": 3,
   "metadata": {},
   "outputs": [],
   "source": [
    "tile_img = cv2.imread('tile.png')\n",
    "tile_rgb = cv2.cvtColor(tile_img, cv2.COLOR_BGR2RGB)\n",
    "tile_gray = cv2.cvtColor(tile_rgb, cv2.COLOR_RGB2GRAY)"
   ]
  },
  {
   "cell_type": "code",
   "execution_count": 4,
   "metadata": {},
   "outputs": [
    {
     "data": {
      "image/png": "[encoded data removed]",
      "text/plain": [
       "<Figure size 640x480 with 1 Axes>"
      ]
     },
     "metadata": {},
     "output_type": "display_data"
    }
   ],
   "source": [
    "plt.imshow(tile_rgb)\n",
    "plt.axis('off')  # Hide the axis\n",
    "plt.show()"
   ]
  },
  {
   "cell_type": "code",
   "execution_count": null,
   "metadata": {},
   "outputs": [],
   "source": [
    "GRAVEYARD = ([252, 252, 252],[116, 116, 116])\n",
    "FOREST = [(0,168,0) , (252,216,168)]"
   ]
  },
  {
   "cell_type": "code",
   "execution_count": 5,
   "metadata": {},
   "outputs": [
    {
     "data": {
      "image/png": "[encoded data removed]",
      "text/plain": [
       "<Figure size 640x480 with 1 Axes>"
      ]
     },
     "metadata": {},
     "output_type": "display_data"
    }
   ],
   "source": [
    "# Define the original and new colors\n",
    "original_color_1 = [200, 76, 12]\n",
    "new_color_1 = [252, 252, 252]\n",
    "original_color_2 = [252, 216, 168]\n",
    "new_color_2 = [116, 116, 116]\n",
    "\n",
    "# Create a mask for each color to be changed\n",
    "mask_1 = np.all(tile_rgb == original_color_1, axis=-1)\n",
    "mask_2 = np.all(tile_rgb == original_color_2, axis=-1)\n",
    "\n",
    "# Change the color of the pixels based on the mask\n",
    "tile_rgb[mask_1] = new_color_1\n",
    "tile_rgb[mask_2] = new_color_2\n",
    "\n",
    "# Convert the image back to BGR for saving\n",
    "image_bgr = cv2.cvtColor(tile_rgb, cv2.COLOR_RGB2BGR)\n",
    "\n",
    "# Save the modified image\n",
    "cv2.imwrite('modified_image.png', image_bgr)\n",
    "\n",
    "# Display the modified image using matplotlib\n",
    "import matplotlib.pyplot as plt\n",
    "plt.imshow(tile_rgb)\n",
    "plt.axis('off')  # Hide the axis\n",
    "plt.show()"
   ]
  }
 ],
 "metadata": {
  "kernelspec": {
   "display_name": "cv381",
   "language": "python",
   "name": "python3"
  },
  "language_info": {
   "codemirror_mode": {
    "name": "ipython",
    "version": 3
   },
   "file_extension": ".py",
   "mimetype": "text/x-python",
   "name": "python",
   "nbconvert_exporter": "python",
   "pygments_lexer": "ipython3",
   "version": "3.8.1"
  }
 },
 "nbformat": 4,
 "nbformat_minor": 2
}
